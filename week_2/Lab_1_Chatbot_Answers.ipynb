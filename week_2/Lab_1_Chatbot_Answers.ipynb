{
 "cells": [
  {
   "cell_type": "markdown",
   "id": "20feb6b3",
   "metadata": {},
   "source": [
    "# Working with Chatbots"
   ]
  },
  {
   "cell_type": "markdown",
   "id": "6e64b24c",
   "metadata": {},
   "source": [
    "We'll also install pandas which we'll be using the read text files"
   ]
  },
  {
   "cell_type": "code",
   "execution_count": 3,
   "id": "e70245e9",
   "metadata": {},
   "outputs": [
    {
     "name": "stdout",
     "output_type": "stream",
     "text": [
      "Requirement already satisfied: pandas in /Users/david/src/py/techin510/venv/lib/python3.11/site-packages (1.5.2)\n",
      "Requirement already satisfied: python-dateutil>=2.8.1 in /Users/david/src/py/techin510/venv/lib/python3.11/site-packages (from pandas) (2.8.2)\n",
      "Requirement already satisfied: pytz>=2020.1 in /Users/david/src/py/techin510/venv/lib/python3.11/site-packages (from pandas) (2022.7)\n",
      "Requirement already satisfied: numpy>=1.21.0 in /Users/david/src/py/techin510/venv/lib/python3.11/site-packages (from pandas) (1.24.1)\n",
      "Requirement already satisfied: six>=1.5 in /Users/david/src/py/techin510/venv/lib/python3.11/site-packages (from python-dateutil>=2.8.1->pandas) (1.16.0)\n",
      "Note: you may need to restart the kernel to use updated packages.\n"
     ]
    }
   ],
   "source": [
    "pip install pandas"
   ]
  },
  {
   "cell_type": "code",
   "execution_count": 4,
   "id": "7456c029",
   "metadata": {},
   "outputs": [],
   "source": [
    "import pandas as pd"
   ]
  },
  {
   "cell_type": "markdown",
   "id": "5bebd13b",
   "metadata": {},
   "source": [
    "## Lab 1: Create Your Own Chatbot"
   ]
  },
  {
   "cell_type": "markdown",
   "id": "77d77d36",
   "metadata": {},
   "source": [
    "###  Step 1: Barebones Interactive Chatbot\n",
    "You will first create a simple interactive loop between user input and program output. Before entering the loop, your program should prompt the user to request their input (e.g. \"Hi, how can I help you?\"). At each iteration of the loop, the program should take user input (typed onto the terminal pressing 'Enter' at the end) and then output simple statistical information about that input (e.g. \"You entered X letters and Y words\"). Also add a way to exit the loop; for example, if the user types \"Bye\" the loop should end and your program should halt after a final prompt to the user to acknowledge that the interaction has ended. Add your code below."
   ]
  },
  {
   "cell_type": "code",
   "execution_count": 5,
   "id": "032aac1a",
   "metadata": {},
   "outputs": [
    {
     "name": "stdout",
     "output_type": "stream",
     "text": [
      "Hi how can I help you? \\q\n",
      "you said 1 words and 2 letters\n",
      "Hi how can I help you? end\n",
      "you said 1 words and 3 letters\n"
     ]
    }
   ],
   "source": [
    "## Barebones interactice chatbot\n",
    "\n",
    "while True:\n",
    "  msg = input(\"Hi how can I help you? \")\n",
    "  print(\"you said {} words and {} letters\".format(len(msg.split(\" \")), len(msg)), \n",
    "        end=\"\\n\")\n",
    "  if (\"end\" in msg) | (\"quit\" in msg):\n",
    "    break"
   ]
  },
  {
   "cell_type": "markdown",
   "id": "95fe6739",
   "metadata": {},
   "source": [
    "### Step 2: Simple ListenBot\n",
    "\n",
    "Next you will upgrade your chatbot to be a \"good listener.\" Do not worry about deleting or overwriting things you did in the previous step. Before entering into the interactive loop, your chatbot should ask the user's name and remember it throughout the chat. It should also prompt the user to talk about something (e.g. \"How was your day, Ashitaka?\") As part of the loop, the chatbot should analyze the user's input and decide whether to give a positive, negative, or neutral response. To analyze the input, we have supplied a fixed list of [positive](http://ptrckprry.com/course/ssd/data/positive-words.txt) and [negative](http://ptrckprry.com/course/ssd/data/negative-words.txt) words and which will determine the number of positive and negative words that occur in the user's input. For the most simple version of the `ListenBot`, your list of positive and negative words do not have to be too long, just enough to showcase a simple conversation. However, the lists we supply will make your `ListenBot` more robust. \n",
    "\n",
    "The chatbot should respond based on the number of positive and negative words in the user's input. Your chatbot should have at least two different responses of each type and should alternate between responses, e.g.:\n",
    "* Positive responses: \"Great!\" \"Cool!\"\n",
    "* Negative responses: \"Too bad!\" \"Womp, womp!\"\n",
    "* Neutral responses: \"Hmm..\" \"I see.\"\n",
    "\n",
    "As before, there should be at least one way to end the conversation. You can make the ways to end the conversation known to the user in your earlier prompt or somewhere during the conversation. Add your updated code below."
   ]
  },
  {
   "cell_type": "code",
   "execution_count": 6,
   "id": "afc72e51",
   "metadata": {},
   "outputs": [
    {
     "name": "stdout",
     "output_type": "stream",
     "text": [
      "positive words:\n",
      "['a+', 'abound', 'abounds', 'abundance', 'abundant', 'accessable', 'accessible', 'acclaim', 'acclaimed', 'acclamation']\n",
      "negative words:\n",
      "['2-faced', '2-faces', 'abnormal', 'abolish', 'abominable', 'abominably', 'abominate', 'abomination', 'abort', 'aborted']\n"
     ]
    }
   ],
   "source": [
    "## Simple ListenBot\n",
    "\n",
    "# TODO: Implement ListenBot by extending the barebones interactive chatbot\n",
    "import pandas as pd\n",
    "\n",
    "# perhaps the simplest way to read in the files is using pandas\n",
    "positive = list(pd.read_csv(\"positive_words.txt\", header=0).iloc[:,0].values)\n",
    "negative = list(pd.read_csv(\"negative_words.txt\", header=0).iloc[:,0].values)\n",
    "\n",
    "print(\"positive words:\")\n",
    "print(positive[:10])\n",
    "print(\"negative words:\")\n",
    "print(negative[:10])"
   ]
  },
  {
   "cell_type": "code",
   "execution_count": 7,
   "id": "261bbed4",
   "metadata": {},
   "outputs": [
    {
     "name": "stdout",
     "output_type": "stream",
     "text": [
      "Slow Down!\n"
     ]
    }
   ],
   "source": [
    "# next we need to create some random responses and decode the user input to see\n",
    "# if it contains mostly positive or negative words\n",
    "\n",
    "import random\n",
    "\n",
    "msg = \"I'm having a great day!\"\n",
    "\n",
    "# responses\n",
    "positive_responses = [\"Lookin Good!\", \"Slow Down!\", \"My Man!\"]\n",
    "negative_responses = [\"Sorry to hear that\", \"better luck next time\"]\n",
    "neutral_responses = [\"hmmm\", \"I see\"]\n",
    "\n",
    "# use sets to determine msg content\n",
    "positive_word_count = len(set(msg.split(\" \")).intersection(set(positive)))\n",
    "negative_word_count = len(set(msg.split(\" \")).intersection(set(negative)))\n",
    "\n",
    "# create conditional flow\n",
    "if positive_word_count > negative_word_count:\n",
    "    print(random.choice(positive_responses))\n",
    "elif negative_word_count > positive_word_count:\n",
    "    print(random.choice(negative_responses))\n",
    "else:\n",
    "    print(random.choice(neutral_responses))"
   ]
  },
  {
   "cell_type": "code",
   "execution_count": null,
   "id": "ead37776",
   "metadata": {},
   "outputs": [
    {
     "name": "stdout",
     "output_type": "stream",
     "text": [
      "Hi!\n",
      "How can I help you? I'm happy\n",
      "Slow Down!\n",
      "How can I help you? I'm sad\n",
      "better luck next time\n",
      "How can I help you? I'm neither sad nor happy\n",
      "I see\n"
     ]
    }
   ],
   "source": [
    "# putting it all together\n",
    "\n",
    "# responses\n",
    "positive_responses = [\"Lookin Good!\", \"Slow Down!\", \"My Man!\"]\n",
    "negative_responses = [\"Sorry to hear that\", \"better luck next time\"]\n",
    "neutral_responses = [\"hmmm\", \"I see\"]\n",
    "print(\"Hi!\")\n",
    "while True:\n",
    "    msg = input(\"How can I help you? \")\n",
    "\n",
    "    # use sets to determine msg content\n",
    "    positive_word_count = len(set(msg.split(\" \")).intersection(set(positive)))\n",
    "    negative_word_count = len(set(msg.split(\" \")).intersection(set(negative)))\n",
    "\n",
    "    # create conditional flow\n",
    "    if positive_word_count > negative_word_count:\n",
    "        print(random.choice(positive_responses))\n",
    "    elif negative_word_count > positive_word_count:\n",
    "        print(random.choice(negative_responses))\n",
    "    else:\n",
    "        print(random.choice(neutral_responses))\n",
    "\n",
    "    if (\"end\" in msg) | (\"quit\" in msg):\n",
    "        break"
   ]
  },
  {
   "cell_type": "markdown",
   "id": "4a787e19",
   "metadata": {},
   "source": [
    "### Step 3: Improved Listenbot\n",
    "\n",
    "Now test your chatbot with a classmate or friend. Based on breakdowns or awkwardness in these tests choose at least one additional improvement and implement it below. Make sure to descibe your improvement in the list below."
   ]
  },
  {
   "cell_type": "code",
   "execution_count": null,
   "id": "315aee0b",
   "metadata": {},
   "outputs": [],
   "source": [
    "## Improved ListenBot\n",
    "\n",
    "# TODO: Implement improved ListenBot that addresses at least one breakdown of the original ListenBotb"
   ]
  },
  {
   "cell_type": "markdown",
   "id": "35d5faf5",
   "metadata": {},
   "source": [
    "### List of Improvements\n",
    "Provide a list or table here in `markdown` containing the improvements you made and a brief description of why you made them."
   ]
  }
 ],
 "metadata": {
  "kernelspec": {
   "display_name": "Python 3 (ipykernel)",
   "language": "python",
   "name": "python3"
  },
  "language_info": {
   "codemirror_mode": {
    "name": "ipython",
    "version": 3
   },
   "file_extension": ".py",
   "mimetype": "text/x-python",
   "name": "python",
   "nbconvert_exporter": "python",
   "pygments_lexer": "ipython3",
   "version": "3.11.1"
  }
 },
 "nbformat": 4,
 "nbformat_minor": 5
}
