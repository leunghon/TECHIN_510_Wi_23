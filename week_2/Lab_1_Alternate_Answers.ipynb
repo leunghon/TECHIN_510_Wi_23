{
 "cells": [
  {
   "cell_type": "code",
   "execution_count": 1,
   "id": "f8bf63ae",
   "metadata": {},
   "outputs": [
    {
     "name": "stdout",
     "output_type": "stream",
     "text": [
      "What's your name? Scott\n",
      "Press \\q to quit at anytime\n",
      "Say something, Scott dog\n",
      "You said 1 words and 3 letters.\n",
      "Press \\q to quit at anytime\n",
      "Say something, Scott I am hungry\n",
      "You said 3 words and 9 letters.\n",
      "Press \\q to quit at anytime\n",
      "Say something, Scott \\q\n",
      "Bye!\n"
     ]
    }
   ],
   "source": [
    "name = input(\"What's your name? \")\n",
    "while True:\n",
    "    print(\"Press \\q to quit at anytime\")\n",
    "    msg = input(f\"Say something, {name} \")\n",
    "    quit = \"\\q\"\n",
    "    if quit in msg:\n",
    "        print(\"Bye!\")\n",
    "        break\n",
    "    words = len(msg.split(\" \"))\n",
    "    letters = len(msg.replace(\" \", \"\"))\n",
    "    print(f\"You said {words} words and {letters} letters.\")"
   ]
  }
 ],
 "metadata": {
  "kernelspec": {
   "display_name": "Python 3 (ipykernel)",
   "language": "python",
   "name": "python3"
  },
  "language_info": {
   "codemirror_mode": {
    "name": "ipython",
    "version": 3
   },
   "file_extension": ".py",
   "mimetype": "text/x-python",
   "name": "python",
   "nbconvert_exporter": "python",
   "pygments_lexer": "ipython3",
   "version": "3.11.1"
  }
 },
 "nbformat": 4,
 "nbformat_minor": 5
}
