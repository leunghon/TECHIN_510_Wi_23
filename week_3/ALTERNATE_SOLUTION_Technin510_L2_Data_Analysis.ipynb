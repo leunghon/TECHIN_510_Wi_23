{
 "cells": [
  {
   "cell_type": "markdown",
   "metadata": {
    "id": "4ZGlGoIO-pNr"
   },
   "source": [
    "# LAB2: DATA VISUALIZATION & PROCESSING IN PYTHON\n",
    "In this lab you will practice Python data processing and visualization.\n"
   ]
  },
  {
   "cell_type": "markdown",
   "metadata": {
    "id": "lqeMmXmy_Ky1"
   },
   "source": [
    "## Step 1: Access the datasets\n",
    "\n",
    "You can access the data files for `Lab_2` on Canvas in the `Files/Lab 2` section of *TECHIN 510*, and then upload them to your local Jupyter server.\n",
    "* Robot Faces data set\n",
    "* People\n",
    "* Pre-recorded accelerometer data\n",
    "\n",
    "And you can incorporate them into your code using the sample code in the next cell.\n"
   ]
  },
  {
   "cell_type": "code",
   "execution_count": 2,
   "metadata": {
    "id": "LheiuPmvByaL"
   },
   "outputs": [],
   "source": [
    "## SAMPLE CODE\n",
    "import pandas as pd\n",
    "import numpy as np\n",
    "import matplotlib.pyplot as plt\n",
    "# Let's declare a few URLs so that we can access the data from anywhere\n",
    "robot_faces_url = 'https://raw.githubusercontent.com/sstevson/TECHIN_510_Wi_23/main/week_3/robot_faces.csv'\n",
    "people_url = 'https://raw.githubusercontent.com/sstevson/TECHIN_510_Wi_23/main/week_3/people.csv'\n",
    "accelerometer_url = 'https://raw.githubusercontent.com/sstevson/TECHIN_510_Wi_23/main/week_3/accelerometer.csv'\n",
    "# Now let's create DataFrames for each data source\n",
    "robots = pd.read_csv(robot_faces_url)\n",
    "people = pd.read_csv(people_url)\n",
    "accel = pd.read_csv(accelerometer_url)"
   ]
  },
  {
   "cell_type": "markdown",
   "metadata": {},
   "source": [
    "## Initial Exploration of Data\n",
    "What data types exist in the robots CSV? And can we see a count of their unique values?"
   ]
  },
  {
   "cell_type": "code",
   "execution_count": 3,
   "metadata": {},
   "outputs": [
    {
     "data": {
      "text/plain": [
       "Name                        object\n",
       "Unnamed: 1                   int64\n",
       "robot type                  object\n",
       "category                    object\n",
       "full head                   object\n",
       "                             ...  \n",
       "cheek placement             object\n",
       "cheek spacing               object\n",
       "hair color                  object\n",
       "country/region of origin    object\n",
       "year                        object\n",
       "Length: 77, dtype: object"
      ]
     },
     "execution_count": 3,
     "metadata": {},
     "output_type": "execute_result"
    }
   ],
   "source": [
    "robots.dtypes"
   ]
  },
  {
   "cell_type": "code",
   "execution_count": 4,
   "metadata": {},
   "outputs": [
    {
     "data": {
      "text/plain": [
       "Name                        136\n",
       "Unnamed: 1                   43\n",
       "robot type                    3\n",
       "category                     11\n",
       "full head                     2\n",
       "                           ... \n",
       "cheek placement               4\n",
       "cheek spacing                 4\n",
       "hair color                    6\n",
       "country/region of origin     20\n",
       "year                         17\n",
       "Length: 77, dtype: int64"
      ]
     },
     "execution_count": 4,
     "metadata": {},
     "output_type": "execute_result"
    }
   ],
   "source": [
    "robots.nunique()"
   ]
  },
  {
   "cell_type": "markdown",
   "metadata": {},
   "source": [
    "Let's convert the `full head` column to a Category for more efficient processing. Remember that Object types take up more room in memory.\n",
    "\n",
    "This is just one example of where we can optimize across the DataFrame."
   ]
  },
  {
   "cell_type": "code",
   "execution_count": 5,
   "metadata": {},
   "outputs": [
    {
     "data": {
      "text/plain": [
       "0      y\n",
       "1      y\n",
       "2      y\n",
       "3      y\n",
       "4      y\n",
       "      ..\n",
       "131    x\n",
       "132    x\n",
       "133    x\n",
       "134    x\n",
       "135    x\n",
       "Name: full head, Length: 136, dtype: category\n",
       "Categories (2, object): ['x', 'y']"
      ]
     },
     "execution_count": 5,
     "metadata": {},
     "output_type": "execute_result"
    }
   ],
   "source": [
    "robots['full head'].astype('category')"
   ]
  },
  {
   "cell_type": "markdown",
   "metadata": {},
   "source": [
    "Since the change above looks good, let's make it permanent"
   ]
  },
  {
   "cell_type": "code",
   "execution_count": 6,
   "metadata": {},
   "outputs": [],
   "source": [
    "robots['full head'] = robots['full head'].astype('category')"
   ]
  },
  {
   "cell_type": "code",
   "execution_count": 7,
   "metadata": {},
   "outputs": [
    {
     "data": {
      "text/html": [
       "<div>\n",
       "<style scoped>\n",
       "    .dataframe tbody tr th:only-of-type {\n",
       "        vertical-align: middle;\n",
       "    }\n",
       "\n",
       "    .dataframe tbody tr th {\n",
       "        vertical-align: top;\n",
       "    }\n",
       "\n",
       "    .dataframe thead th {\n",
       "        text-align: right;\n",
       "    }\n",
       "</style>\n",
       "<table border=\"1\" class=\"dataframe\">\n",
       "  <thead>\n",
       "    <tr style=\"text-align: right;\">\n",
       "      <th></th>\n",
       "      <th>Name</th>\n",
       "      <th>full head</th>\n",
       "    </tr>\n",
       "  </thead>\n",
       "  <tbody>\n",
       "    <tr>\n",
       "      <th>0</th>\n",
       "      <td>Vanessa</td>\n",
       "      <td>y</td>\n",
       "    </tr>\n",
       "    <tr>\n",
       "      <th>1</th>\n",
       "      <td>EDGAR</td>\n",
       "      <td>y</td>\n",
       "    </tr>\n",
       "    <tr>\n",
       "      <th>2</th>\n",
       "      <td>FURo-S</td>\n",
       "      <td>y</td>\n",
       "    </tr>\n",
       "    <tr>\n",
       "      <th>3</th>\n",
       "      <td>FURo-D</td>\n",
       "      <td>y</td>\n",
       "    </tr>\n",
       "    <tr>\n",
       "      <th>4</th>\n",
       "      <td>SociBot</td>\n",
       "      <td>y</td>\n",
       "    </tr>\n",
       "    <tr>\n",
       "      <th>...</th>\n",
       "      <td>...</td>\n",
       "      <td>...</td>\n",
       "    </tr>\n",
       "    <tr>\n",
       "      <th>131</th>\n",
       "      <td>Baxter (12)</td>\n",
       "      <td>x</td>\n",
       "    </tr>\n",
       "    <tr>\n",
       "      <th>132</th>\n",
       "      <td>Eva</td>\n",
       "      <td>x</td>\n",
       "    </tr>\n",
       "    <tr>\n",
       "      <th>133</th>\n",
       "      <td>Gongzi Xiaobai</td>\n",
       "      <td>x</td>\n",
       "    </tr>\n",
       "    <tr>\n",
       "      <th>134</th>\n",
       "      <td>Baidu KFC Robot</td>\n",
       "      <td>x</td>\n",
       "    </tr>\n",
       "    <tr>\n",
       "      <th>135</th>\n",
       "      <td>Otto</td>\n",
       "      <td>x</td>\n",
       "    </tr>\n",
       "  </tbody>\n",
       "</table>\n",
       "<p>136 rows × 2 columns</p>\n",
       "</div>"
      ],
      "text/plain": [
       "                 Name full head\n",
       "0             Vanessa         y\n",
       "1               EDGAR         y\n",
       "2              FURo-S         y\n",
       "3              FURo-D         y\n",
       "4             SociBot         y\n",
       "..                ...       ...\n",
       "131       Baxter (12)         x\n",
       "132               Eva         x\n",
       "133    Gongzi Xiaobai         x\n",
       "134  Baidu KFC Robot          x\n",
       "135              Otto         x\n",
       "\n",
       "[136 rows x 2 columns]"
      ]
     },
     "execution_count": 7,
     "metadata": {},
     "output_type": "execute_result"
    }
   ],
   "source": [
    "robots[['Name', 'full head']]"
   ]
  },
  {
   "cell_type": "markdown",
   "metadata": {
    "id": "54ZlkTof_M4R"
   },
   "source": [
    "## Step 2: Robot face data exploration\n",
    "\n",
    "Let's start by exploring the data in `robot_faces.csv`. First, write the code for loading and preprocessing the data. After inspecting the different column names to better understand what the data includes, pose a specific question and write new code to answer that question. Some example questions are:\n",
    "* How many robots both have a mouth and a nose?\n",
    "* Which country has the highest fraction of robots with black face color?\n",
    "* Do more robots built after 2012 have blue eyes than those built before?\n",
    "\n",
    "Your code should print the question at the beginning and print the computed answer at the end. Your script should also create at least one visualization that allows a human to answer the same question without having to do calculations.\n",
    "\n",
    "*If you are interested, you can read more about the face data [here](https://spectrum.ieee.org/automaton/robotics/humanoids/what-people-see-in-157-robot-faces).*\n"
   ]
  },
  {
   "cell_type": "code",
   "execution_count": 8,
   "metadata": {
    "id": "9iqMQnQT_0-i"
   },
   "outputs": [
    {
     "name": "stdout",
     "output_type": "stream",
     "text": [
      "How many robots both have a mouth and a nose? Looks like there are 28.\n"
     ]
    }
   ],
   "source": [
    "# How many robots both have a mouth and a nose?\n",
    "nose_and_mouth = robots[['Name','nose', 'mouth']] # Let's isolate only the columns we need\n",
    "has_nose = nose_and_mouth['nose'] == 'y' # Select only 'y' values for the nose column\n",
    "has_mouth = nose_and_mouth['mouth'] == 'y' # Now do the same for the mouth column\n",
    "total = len(nose_and_mouth[has_nose & has_mouth]) # Let's see how many rows are in this transformed data\n",
    "print(f\"How many robots both have a mouth and a nose? Looks like there are {total}.\")"
   ]
  },
  {
   "cell_type": "code",
   "execution_count": 9,
   "metadata": {},
   "outputs": [
    {
     "data": {
      "text/plain": [
       "Text(0.5, 1.0, 'How Many Robots Have A Nose or Mouth?')"
      ]
     },
     "execution_count": 9,
     "metadata": {},
     "output_type": "execute_result"
    },
    {
     "data": {
      "image/png": "[encoded data removed]",
      "text/plain": [
       "<Figure size 640x480 with 1 Axes>"
      ]
     },
     "metadata": {},
     "output_type": "display_data"
    }
   ],
   "source": [
    "fig, ax = plt.subplots()\n",
    "robots[['mouth', 'nose']].value_counts().plot(kind='bar')\n",
    "ax.set_xticklabels(['Mouth Only', 'Neither', 'Mouth and Nose', 'Nose Only'])\n",
    "ax.set_xlabel('')\n",
    "ax.set_ylabel('Number of Robots')\n",
    "ax.set_title('How Many Robots Have A Nose or Mouth?')"
   ]
  },
  {
   "cell_type": "code",
   "execution_count": 10,
   "metadata": {},
   "outputs": [
    {
     "data": {
      "text/plain": [
       "<AxesSubplot: ylabel='country/region of origin,face color'>"
      ]
     },
     "execution_count": 10,
     "metadata": {},
     "output_type": "execute_result"
    },
    {
     "data": {
      "image/png": "[encoded data removed]",
      "text/plain": [
       "<Figure size 640x480 with 1 Axes>"
      ]
     },
     "metadata": {},
     "output_type": "display_data"
    }
   ],
   "source": [
    "# Which country has the highest fraction of robots with black face color?\n",
    "face_color = robots[['country/region of origin', 'face color']] # Again, isolate the columns we need\n",
    "face_color.set_index('country/region of origin') # reset the index to use the country names\n",
    "face_color_is_black = face_color['face color'] == 'black' # create a filter for only black face color\n",
    "face_color[face_color_is_black] # apply that filter to the DataFrame\n",
    "face_color[face_color_is_black].value_counts().plot(kind='barh')"
   ]
  },
  {
   "cell_type": "code",
   "execution_count": 11,
   "metadata": {},
   "outputs": [
    {
     "data": {
      "text/plain": [
       "country/region of origin\n",
       "Australia     1\n",
       "Canada        2\n",
       "China        16\n",
       "France        3\n",
       "Germany       2\n",
       "Japan         4\n",
       "Korea         4\n",
       "Russia        1\n",
       "Taiwan        1\n",
       "UK            1\n",
       "USA          14\n",
       "dtype: int64"
      ]
     },
     "execution_count": 11,
     "metadata": {},
     "output_type": "execute_result"
    }
   ],
   "source": [
    "# Determining the ratio of each country's count\n",
    "face_color[face_color_is_black].groupby('country/region of origin').size() # Get the counts for each country"
   ]
  },
  {
   "cell_type": "code",
   "execution_count": 12,
   "metadata": {},
   "outputs": [
    {
     "name": "stdout",
     "output_type": "stream",
     "text": [
      "Australia 1\n",
      "Canada 2\n",
      "China 16\n",
      "France 3\n",
      "Germany 2\n",
      "Japan 4\n",
      "Korea 4\n",
      "Russia 1\n",
      "Taiwan 1\n",
      "UK 1\n",
      "USA 14\n"
     ]
    }
   ],
   "source": [
    "for country, count in face_color[face_color_is_black].groupby('country/region of origin').size().items():\n",
    "    print(country, count)"
   ]
  },
  {
   "cell_type": "code",
   "execution_count": 13,
   "metadata": {},
   "outputs": [
    {
     "name": "stdout",
     "output_type": "stream",
     "text": [
      "Australia accounted for 2% of robots with black faces.\n",
      "Canada accounted for 4% of robots with black faces.\n",
      "China accounted for 33% of robots with black faces.\n",
      "France accounted for 6% of robots with black faces.\n",
      "Germany accounted for 4% of robots with black faces.\n",
      "Japan accounted for 8% of robots with black faces.\n",
      "Korea accounted for 8% of robots with black faces.\n",
      "Russia accounted for 2% of robots with black faces.\n",
      "Taiwan accounted for 2% of robots with black faces.\n",
      "UK accounted for 2% of robots with black faces.\n",
      "USA accounted for 29% of robots with black faces.\n"
     ]
    }
   ],
   "source": [
    "total_black = len(face_color[face_color_is_black]) # Length of new DataFrame\n",
    "country_counts = face_color[face_color_is_black].groupby('country/region of origin').size().items()\n",
    "for c, n in country_counts:\n",
    "    print(f\"{c} accounted for {round((n / total_black) * 100)}% of robots with black faces.\")"
   ]
  },
  {
   "cell_type": "code",
   "execution_count": 14,
   "metadata": {},
   "outputs": [
    {
     "name": "stdout",
     "output_type": "stream",
     "text": [
      "Q: Do robots built before 2012 have blue eyes more often than those built after 2012?\n",
      "A: No. There were 6 robots with blue eyes before 2012 and 20 after.\n"
     ]
    }
   ],
   "source": [
    "# Do more robots built after 2012 have blue eyes than those built before?\n",
    "subset = robots[['year', 'eye color']] # create a subset with only the columns we need\n",
    "after_2012 = subset['year'] > '2012' # Filter for robots built during or after 2012\n",
    "before_2012 = subset['year'] <= '2012' # Filter robots built before 2012\n",
    "has_blue_eyes = subset['eye color'] == 'blue' # Filter for robots with blue eyes\n",
    "blue_after_2012 = subset[after_2012 & has_blue_eyes]\n",
    "blue_before_2012 = subset[before_2012 & has_blue_eyes]\n",
    "len(blue_after_2012) > len(blue_before_2012)\n",
    "print('Q: Do robots built before 2012 have blue eyes more often than those built after 2012?')\n",
    "print(f'A: No. There were {len(blue_before_2012)} robots with blue eyes before 2012 and {len(blue_after_2012)} after.')"
   ]
  }
 ],
 "metadata": {
  "colab": {
   "provenance": []
  },
  "kernelspec": {
   "display_name": "Python 3 (ipykernel)",
   "language": "python",
   "name": "python3"
  },
  "language_info": {
   "codemirror_mode": {
    "name": "ipython",
    "version": 3
   },
   "file_extension": ".py",
   "mimetype": "text/x-python",
   "name": "python",
   "nbconvert_exporter": "python",
   "pygments_lexer": "ipython3",
   "version": "3.11.1"
  }
 },
 "nbformat": 4,
 "nbformat_minor": 1
}
