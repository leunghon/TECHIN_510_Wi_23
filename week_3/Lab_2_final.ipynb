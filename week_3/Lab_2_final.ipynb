{
 "cells": [
  {
   "cell_type": "markdown",
   "metadata": {
    "id": "4ZGlGoIO-pNr"
   },
   "source": [
    "# LAB2: DATA VISUALIZATION & PROCESSING IN PYTHON\n",
    "In this lab you will practice Python data processing and visualization.\n"
   ]
  },
  {
   "cell_type": "markdown",
   "metadata": {
    "id": "lqeMmXmy_Ky1"
   },
   "source": [
    "## Step 1: Access the datasets\n",
    "\n",
    "You can access the data files for `Lab_2` on Canvas in the `Files/Lab 2` section of *TECHIN 510*, and then upload them to your local Jupyter server.\n",
    "* Robot Faces data set\n",
    "* People\n",
    "* Pre-recorded accelerometer data\n",
    "\n",
    "And you can incorporate them into your code using the sample code in the next cell.\n"
   ]
  },
  {
   "cell_type": "code",
   "execution_count": 15,
   "metadata": {
    "id": "LheiuPmvByaL"
   },
   "outputs": [],
   "source": [
    "## SAMPLE CODE\n",
    "import pandas as pd\n",
    "f1 = 'robot_faces.csv'\n",
    "f2 = 'people.csv'\n",
    "f3 = 'accelerometer.csv'\n",
    "faces = pd.read_csv(f1)\n",
    "people = pd.read_csv(f2)\n",
    "accel = pd.read_csv(f3)"
   ]
  },
  {
   "cell_type": "code",
   "execution_count": 11,
   "metadata": {},
   "outputs": [],
   "source": [
    "pd.options.display.max_columns = 10"
   ]
  },
  {
   "cell_type": "code",
   "execution_count": 14,
   "metadata": {},
   "outputs": [],
   "source": [
    "pd.options.display.max_rows = 20"
   ]
  },
  {
   "cell_type": "code",
   "execution_count": 13,
   "metadata": {},
   "outputs": [
    {
     "data": {
      "text/html": [
       "<div>\n",
       "<style scoped>\n",
       "    .dataframe tbody tr th:only-of-type {\n",
       "        vertical-align: middle;\n",
       "    }\n",
       "\n",
       "    .dataframe tbody tr th {\n",
       "        vertical-align: top;\n",
       "    }\n",
       "\n",
       "    .dataframe thead th {\n",
       "        text-align: right;\n",
       "    }\n",
       "</style>\n",
       "<table border=\"1\" class=\"dataframe\">\n",
       "  <thead>\n",
       "    <tr style=\"text-align: right;\">\n",
       "      <th></th>\n",
       "      <th>Name</th>\n",
       "      <th>Unnamed: 1</th>\n",
       "      <th>robot type</th>\n",
       "      <th>category</th>\n",
       "      <th>full head</th>\n",
       "      <th>...</th>\n",
       "      <th>cheek placement</th>\n",
       "      <th>cheek spacing</th>\n",
       "      <th>hair color</th>\n",
       "      <th>country/region of origin</th>\n",
       "      <th>year</th>\n",
       "    </tr>\n",
       "  </thead>\n",
       "  <tbody>\n",
       "    <tr>\n",
       "      <th>0</th>\n",
       "      <td>Vanessa</td>\n",
       "      <td>7</td>\n",
       "      <td>humanoid</td>\n",
       "      <td>service</td>\n",
       "      <td>y</td>\n",
       "      <td>...</td>\n",
       "      <td>cen</td>\n",
       "      <td>close</td>\n",
       "      <td>black</td>\n",
       "      <td>Russia</td>\n",
       "      <td>2010</td>\n",
       "    </tr>\n",
       "    <tr>\n",
       "      <th>1</th>\n",
       "      <td>EDGAR</td>\n",
       "      <td>8</td>\n",
       "      <td>humanoid</td>\n",
       "      <td>research</td>\n",
       "      <td>y</td>\n",
       "      <td>...</td>\n",
       "      <td>up</td>\n",
       "      <td>wide</td>\n",
       "      <td>brown</td>\n",
       "      <td>Singapore</td>\n",
       "      <td>2014</td>\n",
       "    </tr>\n",
       "    <tr>\n",
       "      <th>2</th>\n",
       "      <td>FURo-S</td>\n",
       "      <td>8</td>\n",
       "      <td>humanoid</td>\n",
       "      <td>service</td>\n",
       "      <td>y</td>\n",
       "      <td>...</td>\n",
       "      <td>cen</td>\n",
       "      <td>wide</td>\n",
       "      <td>brown</td>\n",
       "      <td>Korea</td>\n",
       "      <td>2015</td>\n",
       "    </tr>\n",
       "    <tr>\n",
       "      <th>3</th>\n",
       "      <td>FURo-D</td>\n",
       "      <td>9</td>\n",
       "      <td>humanoid</td>\n",
       "      <td>service</td>\n",
       "      <td>y</td>\n",
       "      <td>...</td>\n",
       "      <td>cen</td>\n",
       "      <td>wide</td>\n",
       "      <td>brown</td>\n",
       "      <td>Korea</td>\n",
       "      <td>2015</td>\n",
       "    </tr>\n",
       "    <tr>\n",
       "      <th>4</th>\n",
       "      <td>SociBot</td>\n",
       "      <td>9</td>\n",
       "      <td>humanoid</td>\n",
       "      <td>entertainment</td>\n",
       "      <td>y</td>\n",
       "      <td>...</td>\n",
       "      <td>cen</td>\n",
       "      <td>cen</td>\n",
       "      <td>x</td>\n",
       "      <td>UK</td>\n",
       "      <td>2012</td>\n",
       "    </tr>\n",
       "    <tr>\n",
       "      <th>...</th>\n",
       "      <td>...</td>\n",
       "      <td>...</td>\n",
       "      <td>...</td>\n",
       "      <td>...</td>\n",
       "      <td>...</td>\n",
       "      <td>...</td>\n",
       "      <td>...</td>\n",
       "      <td>...</td>\n",
       "      <td>...</td>\n",
       "      <td>...</td>\n",
       "      <td>...</td>\n",
       "    </tr>\n",
       "    <tr>\n",
       "      <th>131</th>\n",
       "      <td>Baxter (12)</td>\n",
       "      <td>51</td>\n",
       "      <td>humanoid</td>\n",
       "      <td>research</td>\n",
       "      <td>x</td>\n",
       "      <td>...</td>\n",
       "      <td>x</td>\n",
       "      <td>x</td>\n",
       "      <td>x</td>\n",
       "      <td>USA</td>\n",
       "      <td>2015</td>\n",
       "    </tr>\n",
       "    <tr>\n",
       "      <th>132</th>\n",
       "      <td>Eva</td>\n",
       "      <td>51</td>\n",
       "      <td>humanoid</td>\n",
       "      <td>service</td>\n",
       "      <td>x</td>\n",
       "      <td>...</td>\n",
       "      <td>x</td>\n",
       "      <td>x</td>\n",
       "      <td>x</td>\n",
       "      <td>China</td>\n",
       "      <td>2015</td>\n",
       "    </tr>\n",
       "    <tr>\n",
       "      <th>133</th>\n",
       "      <td>Gongzi Xiaobai</td>\n",
       "      <td>51</td>\n",
       "      <td>humanoid</td>\n",
       "      <td>home</td>\n",
       "      <td>x</td>\n",
       "      <td>...</td>\n",
       "      <td>x</td>\n",
       "      <td>x</td>\n",
       "      <td>x</td>\n",
       "      <td>China</td>\n",
       "      <td>2016</td>\n",
       "    </tr>\n",
       "    <tr>\n",
       "      <th>134</th>\n",
       "      <td>Baidu KFC Robot</td>\n",
       "      <td>53</td>\n",
       "      <td>humanoid</td>\n",
       "      <td>service</td>\n",
       "      <td>x</td>\n",
       "      <td>...</td>\n",
       "      <td>x</td>\n",
       "      <td>x</td>\n",
       "      <td>x</td>\n",
       "      <td>China</td>\n",
       "      <td>2016</td>\n",
       "    </tr>\n",
       "    <tr>\n",
       "      <th>135</th>\n",
       "      <td>Otto</td>\n",
       "      <td>55</td>\n",
       "      <td>mechanical</td>\n",
       "      <td>home</td>\n",
       "      <td>x</td>\n",
       "      <td>...</td>\n",
       "      <td>x</td>\n",
       "      <td>x</td>\n",
       "      <td>x</td>\n",
       "      <td>Korea</td>\n",
       "      <td>2016</td>\n",
       "    </tr>\n",
       "  </tbody>\n",
       "</table>\n",
       "<p>136 rows × 77 columns</p>\n",
       "</div>"
      ],
      "text/plain": [
       "                 Name  Unnamed: 1  robot type       category full head  ...  \\\n",
       "0             Vanessa           7    humanoid        service         y  ...   \n",
       "1               EDGAR           8    humanoid       research         y  ...   \n",
       "2              FURo-S           8    humanoid        service         y  ...   \n",
       "3              FURo-D           9    humanoid        service         y  ...   \n",
       "4             SociBot           9    humanoid  entertainment         y  ...   \n",
       "..                ...         ...         ...            ...       ...  ...   \n",
       "131       Baxter (12)          51    humanoid       research         x  ...   \n",
       "132               Eva          51    humanoid        service         x  ...   \n",
       "133    Gongzi Xiaobai          51    humanoid           home         x  ...   \n",
       "134  Baidu KFC Robot           53    humanoid        service         x  ...   \n",
       "135              Otto          55  mechanical           home         x  ...   \n",
       "\n",
       "    cheek placement cheek spacing hair color country/region of origin  year  \n",
       "0               cen         close      black                   Russia  2010  \n",
       "1                up          wide      brown                Singapore  2014  \n",
       "2               cen          wide      brown                    Korea  2015  \n",
       "3               cen          wide      brown                    Korea  2015  \n",
       "4               cen           cen          x                       UK  2012  \n",
       "..              ...           ...        ...                      ...   ...  \n",
       "131               x             x          x                      USA  2015  \n",
       "132               x             x          x                    China  2015  \n",
       "133               x             x          x                    China  2016  \n",
       "134               x             x          x                    China  2016  \n",
       "135               x             x          x                    Korea  2016  \n",
       "\n",
       "[136 rows x 77 columns]"
      ]
     },
     "execution_count": 13,
     "metadata": {},
     "output_type": "execute_result"
    }
   ],
   "source": [
    "faces"
   ]
  },
  {
   "cell_type": "markdown",
   "metadata": {
    "id": "54ZlkTof_M4R"
   },
   "source": [
    "## Step 2: Robot face data exploration\n",
    "\n",
    "Let's start by exploring the data in `robot_faces.csv`. First, write the code for loading and preprocessing the data. After inspecting the different column names to better understand what the data includes, pose a specific question and write new code to answer that question. Some example questions are:\n",
    "* How many robots both have a mouth and a nose?\n",
    "* Which country has the highest fraction of robots with black face color?\n",
    "* Do more robots built after 2012 have blue eyes than those built before?\n",
    "\n",
    "Your code should print the question at the beginning and print the computed answer at the end. Your script should also create at least one visualization that allows a human to answer the same question without having to do calculations.\n",
    "\n",
    "*If you are interested, you can read more about the face data [here](https://spectrum.ieee.org/automaton/robotics/humanoids/what-people-see-in-157-robot-faces).*\n"
   ]
  },
  {
   "cell_type": "code",
   "execution_count": null,
   "metadata": {
    "id": "9iqMQnQT_0-i"
   },
   "outputs": [],
   "source": [
    "## TODO: Write code to ask a question about the face data and answer it both visually and programmatically"
   ]
  },
  {
   "cell_type": "markdown",
   "metadata": {
    "id": "54ZlkTof_M4R"
   },
   "source": [
    "## Step 3: Persons data exploration\n",
    "\n",
    "We continue our exploration of the data by diving into a dataset of notional (100% fake) persons. Just as you did with the Robot data, write the code for loading and preprocessing the Person data. After inspecting the different column names to better understand what the data includes, pose a specific question and write new code to answer that question. Some example questions are:\n",
    "* How many males are in the data set vs females?\n",
    "* Who are the oldest people living in Chicago?\n",
    "* Which city is most popular with people in their 30's?\n",
    "* What are the top 5 US states represented in the data?\n",
    "\n",
    "Your code should print the question at the beginning and print the computed answer at the end. Your script should also create at least one visualization that allows a human to answer the same question without having to do calculations."
   ]
  },
  {
   "cell_type": "code",
   "execution_count": 3,
   "metadata": {
    "id": "9iqMQnQT_0-i"
   },
   "outputs": [],
   "source": [
    "## TODO: Write code to ask a question about the person data and answer it both visually and programmatically"
   ]
  },
  {
   "cell_type": "markdown",
   "metadata": {
    "id": "6QdkSxgKACqR"
   },
   "source": [
    "## Step 4: Load and visualize accelerometer data\n",
    "\n",
    "Next you will explore the accelerometer data in `accelerometer.csv` recorded from a mobile device.\n",
    "\n",
    "The first thing your Python script should do is open the data file and parse its content into Python lists or arrays. Each row in the data file corresponds to one reading. The first value is the time in seconds, and the next three values are the x, y, z acceleration values from a mobile device accelerometer. Your goal for this part of the lab is to obtain four lists or arrays (of same length) each containing the different columns in the data file.\n",
    "\n",
    "You can use the `pd.read_csv()`, but if you would like to practice some string operations we used during the `chatbot` exercise last week, you can open the file, read its content into a single string, and then use the split() function to split into lines (`data_string.split(\"\\n\")`) and elements (`data_string.split(\",\")`).\n",
    "\n",
    "Before starting to process the data, visualize it to get a better sense of what is in the data. Keep visualization steps in your script for your lab submission."
   ]
  },
  {
   "cell_type": "code",
   "execution_count": null,
   "metadata": {
    "id": "oR389VvaASoo"
   },
   "outputs": [],
   "source": [
    "## TODO: Code for loading and visualizing accelerometer data"
   ]
  },
  {
   "cell_type": "markdown",
   "metadata": {
    "id": "JD-CEhvkAaRI"
   },
   "source": [
    "## Step 5: Detecting lack of movement\n",
    "\n",
    "As a first data processing exercise, iterate over the lists or arrays you created to compute the: 1) total amount of time; and 2) percentage of time during which the person holding the mobile device was not moving (e.g., absolute acceleration smaller than ~0.2m/sec^2). Visualize parts of the data where lack of movement is detected together with the original data to verify that it works correctly."
   ]
  },
  {
   "cell_type": "code",
   "execution_count": null,
   "metadata": {
    "id": "FxuaPlLOAfKF"
   },
   "outputs": [],
   "source": [
    "## TODO: Code for detecting lack of movement (will be run after running code from Step 3)"
   ]
  },
  {
   "cell_type": "markdown",
   "metadata": {
    "id": "EfgBr8JnAmau"
   },
   "source": [
    "## Step 6: Counting steps\n",
    "\n",
    "Next you will iterate over the data to count how many steps were taken. There are alternative ways to do that but here we will outline an approximation of the \"zero-crossing\" method. Walking with an accelerometer results in cyclic patterns characterized by pairs of peaks and valleys in acceleration in some directions. In the provided data you can focus on the z dimension, since the mobile device was held in fixed orientation. To determine the peaks and valleys, iterate over the z values; compare each element in the list to the value of the previous and the next element (note that you cannot do this for the first and last elements of the list); if it is greater than or smaller than both of those, it corresponds to a peak or a valley. Create a separate list, of same length as the data lists, that has the value +1 where peaks occur, -1 where valleys occur, and 0 otherwise. Visualize the peaks and the valleys on the same plot as your data to verify that your algorithm works correctly.\n",
    "\n",
    "You will see that even very small variations in acceleration cause peaks and valleys, so we need to be stricter in detecting peaks and valleys that correspond to an actual step. For that, you can extend the condition for peaks and valleys to include a threshold on the absolute value (`math.fabs()`) of the acceleration in the z direction (e.g., ~1m/sec^2). Visually inspect the number of peaks and valleys with this stricter criteria.\n",
    "\n",
    "A rough approximation of the number of steps would be the `math.min()` of the numbers of peaks and number of valleys. If you are out of time for this lab, you can stop here. However, to count pairs of peaks and valleys more strictly, you need to iterate over the list of peaks and valleys to determine the number of times a peak is followed by a valley (or vice versa) within one second or so (i.e., -1 and 1 separated by no more than four 0s in the peak/valley list). So if you have time, implement counting of pairs as a more accurate approximation of the number of steps.\n",
    "\n",
    "Your script should print the counted number of steps on the terminal at the end."
   ]
  },
  {
   "cell_type": "code",
   "execution_count": null,
   "metadata": {
    "id": "yiNgcVNuAvC2"
   },
   "outputs": [],
   "source": [
    "## TODO: Code for counting steps in accelerometer data (will be run after Step 4)"
   ]
  },
  {
   "cell_type": "markdown",
   "metadata": {
    "id": "yBHpypuhA7rx"
   },
   "source": [
    "## Bonus\n",
    "\n",
    "If you have extra time on this lab, go over your code and add error checks for things that might go wrong, such as if the data file does not have the expected format or if an operation returns empty lists. Instead of throwing errors in these situations, your script should print informative error messages (remember `try`/`except` clauses). In addition, you can go over your code to refactor it into potentially re-usable functions. Finally, you can use the ipywidgets we covered in class to make your figures interactive. Do this part on the code above and list all the improvements you made in the text here."
   ]
  },
  {
   "cell_type": "markdown",
   "metadata": {
    "id": "3FhAAkeiBBrU"
   },
   "source": [
    "## Step 7: Submit your code on Canvas\n",
    "\n",
    "Complete this lab by submitting this file (`lab2.ipynb`) on Canvas, by January 24, 23:59. We will test your code by manually running them and inspecting the code to verify that:\n",
    "* Your face data analysis prints out a clearly stated question and the answer to the question onto the terminal. The code for computing the answer correctly represents the intended question. It also creates an interpretable visualization of parts of the data that would allow a person to answer the same question.\n",
    "* Your step counter code visualizes the accelerometer data, clearly showing times when there is no movement and where peaks and valleys are detected by your algorithm. It prints the detected number of steps on the terminal at the end. The detected number is reasonable compared to ground truth and the code corresponds to the described algorithm.\n",
    "\n",
    "See Canvas for a grading rubric."
   ]
  }
 ],
 "metadata": {
  "colab": {
   "provenance": []
  },
  "kernelspec": {
   "display_name": "Python 3 (ipykernel)",
   "language": "python",
   "name": "python3"
  },
  "language_info": {
   "codemirror_mode": {
    "name": "ipython",
    "version": 3
   },
   "file_extension": ".py",
   "mimetype": "text/x-python",
   "name": "python",
   "nbconvert_exporter": "python",
   "pygments_lexer": "ipython3",
   "version": "3.11.1"
  }
 },
 "nbformat": 4,
 "nbformat_minor": 1
}
