{
 "cells": [
  {
   "cell_type": "markdown",
   "id": "52874e68",
   "metadata": {},
   "source": [
    "## Pandas\n",
    "Powerful library for exploring structured data"
   ]
  },
  {
   "cell_type": "code",
   "execution_count": 43,
   "id": "933f4c4b",
   "metadata": {},
   "outputs": [],
   "source": [
    "import pandas as pd\n",
    "import numpy as np\n",
    "import matplotlib.pyplot as plt\n",
    "import seaborn as sns"
   ]
  },
  {
   "cell_type": "code",
   "execution_count": 2,
   "id": "5c4a40c2",
   "metadata": {},
   "outputs": [],
   "source": [
    "people = 'people.csv'"
   ]
  },
  {
   "cell_type": "code",
   "execution_count": 3,
   "id": "ad98edac",
   "metadata": {},
   "outputs": [],
   "source": [
    "persons_table = pd.read_csv(people)"
   ]
  },
  {
   "cell_type": "code",
   "execution_count": 29,
   "id": "955fc61c",
   "metadata": {},
   "outputs": [
    {
     "data": {
      "text/plain": [
       "pandas.core.frame.DataFrame"
      ]
     },
     "execution_count": 29,
     "metadata": {},
     "output_type": "execute_result"
    }
   ],
   "source": [
    "type(persons_table)"
   ]
  },
  {
   "cell_type": "code",
   "execution_count": 30,
   "id": "63be1154",
   "metadata": {},
   "outputs": [
    {
     "data": {
      "text/html": [
       "<div>\n",
       "<style scoped>\n",
       "    .dataframe tbody tr th:only-of-type {\n",
       "        vertical-align: middle;\n",
       "    }\n",
       "\n",
       "    .dataframe tbody tr th {\n",
       "        vertical-align: top;\n",
       "    }\n",
       "\n",
       "    .dataframe thead th {\n",
       "        text-align: right;\n",
       "    }\n",
       "</style>\n",
       "<table border=\"1\" class=\"dataframe\">\n",
       "  <thead>\n",
       "    <tr style=\"text-align: right;\">\n",
       "      <th></th>\n",
       "      <th>FirstName</th>\n",
       "      <th>Surname</th>\n",
       "      <th>Occupation</th>\n",
       "      <th>Age</th>\n",
       "      <th>Birthday</th>\n",
       "      <th>StreetAddress</th>\n",
       "      <th>City</th>\n",
       "      <th>ZipCode</th>\n",
       "      <th>EmailAddress</th>\n",
       "      <th>Gender</th>\n",
       "    </tr>\n",
       "  </thead>\n",
       "  <tbody>\n",
       "    <tr>\n",
       "      <th>0</th>\n",
       "      <td>Mamie</td>\n",
       "      <td>West</td>\n",
       "      <td>Ground controller</td>\n",
       "      <td>72</td>\n",
       "      <td>3/1/1950</td>\n",
       "      <td>3907 Ruckman Road</td>\n",
       "      <td>Oklahoma City</td>\n",
       "      <td>73110</td>\n",
       "      <td>MamieBWest@armyspy.com</td>\n",
       "      <td>female</td>\n",
       "    </tr>\n",
       "    <tr>\n",
       "      <th>1</th>\n",
       "      <td>Virgil</td>\n",
       "      <td>Huffman</td>\n",
       "      <td>Adult basic education teacher</td>\n",
       "      <td>34</td>\n",
       "      <td>4/15/1988</td>\n",
       "      <td>546 Birch  Street</td>\n",
       "      <td>El Paso</td>\n",
       "      <td>79901</td>\n",
       "      <td>VirgilBHuffman@superrito.com</td>\n",
       "      <td>male</td>\n",
       "    </tr>\n",
       "    <tr>\n",
       "      <th>2</th>\n",
       "      <td>Dana</td>\n",
       "      <td>Friedrich</td>\n",
       "      <td>Real-time captioner</td>\n",
       "      <td>19</td>\n",
       "      <td>4/19/2003</td>\n",
       "      <td>4965 Columbia Road</td>\n",
       "      <td>Denver</td>\n",
       "      <td>80022</td>\n",
       "      <td>DanaJFriedrich@armyspy.com</td>\n",
       "      <td>female</td>\n",
       "    </tr>\n",
       "  </tbody>\n",
       "</table>\n",
       "</div>"
      ],
      "text/plain": [
       "  FirstName    Surname                     Occupation  Age   Birthday  \\\n",
       "0     Mamie       West              Ground controller   72   3/1/1950   \n",
       "1    Virgil    Huffman  Adult basic education teacher   34  4/15/1988   \n",
       "2      Dana  Friedrich            Real-time captioner   19  4/19/2003   \n",
       "\n",
       "        StreetAddress           City  ZipCode                  EmailAddress  \\\n",
       "0   3907 Ruckman Road  Oklahoma City    73110        MamieBWest@armyspy.com   \n",
       "1   546 Birch  Street        El Paso    79901  VirgilBHuffman@superrito.com   \n",
       "2  4965 Columbia Road         Denver    80022    DanaJFriedrich@armyspy.com   \n",
       "\n",
       "   Gender  \n",
       "0  female  \n",
       "1    male  \n",
       "2  female  "
      ]
     },
     "execution_count": 30,
     "metadata": {},
     "output_type": "execute_result"
    }
   ],
   "source": [
    "persons_table.head(3)"
   ]
  },
  {
   "cell_type": "code",
   "execution_count": 31,
   "id": "0710c413",
   "metadata": {},
   "outputs": [
    {
     "data": {
      "text/plain": [
       "Index(['FirstName', 'Surname', 'Occupation', 'Age', 'Birthday',\n",
       "       'StreetAddress', 'City', 'ZipCode', 'EmailAddress', 'Gender'],\n",
       "      dtype='object')"
      ]
     },
     "execution_count": 31,
     "metadata": {},
     "output_type": "execute_result"
    }
   ],
   "source": [
    "persons_table.columns"
   ]
  },
  {
   "cell_type": "code",
   "execution_count": 32,
   "id": "ae842729",
   "metadata": {},
   "outputs": [
    {
     "data": {
      "text/plain": [
       "34"
      ]
     },
     "execution_count": 32,
     "metadata": {},
     "output_type": "execute_result"
    }
   ],
   "source": [
    "persons_table.loc[(persons_table['City'] == 'Chicago')].shape[0]"
   ]
  },
  {
   "cell_type": "code",
   "execution_count": 44,
   "id": "4d99c329",
   "metadata": {},
   "outputs": [],
   "source": [
    "slice1 = persons_table.head(10)"
   ]
  },
  {
   "cell_type": "code",
   "execution_count": 47,
   "id": "dd9fd1f2",
   "metadata": {},
   "outputs": [
    {
     "data": {
      "text/html": [
       "<div>\n",
       "<style scoped>\n",
       "    .dataframe tbody tr th:only-of-type {\n",
       "        vertical-align: middle;\n",
       "    }\n",
       "\n",
       "    .dataframe tbody tr th {\n",
       "        vertical-align: top;\n",
       "    }\n",
       "\n",
       "    .dataframe thead th {\n",
       "        text-align: right;\n",
       "    }\n",
       "</style>\n",
       "<table border=\"1\" class=\"dataframe\">\n",
       "  <thead>\n",
       "    <tr style=\"text-align: right;\">\n",
       "      <th></th>\n",
       "      <th>Age</th>\n",
       "      <th>ZipCode</th>\n",
       "    </tr>\n",
       "  </thead>\n",
       "  <tbody>\n",
       "    <tr>\n",
       "      <th>count</th>\n",
       "      <td>10.00000</td>\n",
       "      <td>10.000000</td>\n",
       "    </tr>\n",
       "    <tr>\n",
       "      <th>mean</th>\n",
       "      <td>46.80000</td>\n",
       "      <td>56756.400000</td>\n",
       "    </tr>\n",
       "    <tr>\n",
       "      <th>std</th>\n",
       "      <td>22.26507</td>\n",
       "      <td>28688.561674</td>\n",
       "    </tr>\n",
       "    <tr>\n",
       "      <th>min</th>\n",
       "      <td>19.00000</td>\n",
       "      <td>19146.000000</td>\n",
       "    </tr>\n",
       "    <tr>\n",
       "      <th>25%</th>\n",
       "      <td>29.00000</td>\n",
       "      <td>27988.250000</td>\n",
       "    </tr>\n",
       "    <tr>\n",
       "      <th>50%</th>\n",
       "      <td>44.50000</td>\n",
       "      <td>68608.000000</td>\n",
       "    </tr>\n",
       "    <tr>\n",
       "      <th>75%</th>\n",
       "      <td>68.50000</td>\n",
       "      <td>78826.000000</td>\n",
       "    </tr>\n",
       "    <tr>\n",
       "      <th>max</th>\n",
       "      <td>74.00000</td>\n",
       "      <td>95605.000000</td>\n",
       "    </tr>\n",
       "  </tbody>\n",
       "</table>\n",
       "</div>"
      ],
      "text/plain": [
       "            Age       ZipCode\n",
       "count  10.00000     10.000000\n",
       "mean   46.80000  56756.400000\n",
       "std    22.26507  28688.561674\n",
       "min    19.00000  19146.000000\n",
       "25%    29.00000  27988.250000\n",
       "50%    44.50000  68608.000000\n",
       "75%    68.50000  78826.000000\n",
       "max    74.00000  95605.000000"
      ]
     },
     "execution_count": 47,
     "metadata": {},
     "output_type": "execute_result"
    }
   ],
   "source": [
    "slice1\n",
    "slice1.describe()"
   ]
  },
  {
   "cell_type": "markdown",
   "id": "64622ed3",
   "metadata": {},
   "source": [
    "## Cleaner than CSV\n",
    "Using Pandas provide a much cleaner output that you can explore more easily out of the box."
   ]
  },
  {
   "cell_type": "code",
   "execution_count": 8,
   "id": "2341ff3b",
   "metadata": {},
   "outputs": [],
   "source": [
    "import csv"
   ]
  },
  {
   "cell_type": "code",
   "execution_count": null,
   "id": "cdbe5a2e",
   "metadata": {},
   "outputs": [],
   "source": [
    "with open('people.csv', 'r') as f:\n",
    "    persons = []\n",
    "    csv_reader = csv.DictReader(f)\n",
    "    for row in csv_reader:\n",
    "        persons.append(row)\n",
    "        print(row)"
   ]
  },
  {
   "cell_type": "code",
   "execution_count": 10,
   "id": "537196a6",
   "metadata": {},
   "outputs": [],
   "source": [
    "gender = pd.DataFrame(persons_table.groupby('Gender').value_counts())"
   ]
  },
  {
   "cell_type": "code",
   "execution_count": 25,
   "id": "a4bab120",
   "metadata": {},
   "outputs": [
    {
     "data": {
      "text/plain": [
       "<AxesSubplot: xlabel='Gender', ylabel='Count'>"
      ]
     },
     "execution_count": 25,
     "metadata": {},
     "output_type": "execute_result"
    },
    {
     "data": {
      "image/png": "[encoded data removed]",
      "text/plain": [
       "<Figure size 400x500 with 1 Axes>"
      ]
     },
     "metadata": {},
     "output_type": "display_data"
    }
   ],
   "source": [
    "sns.set_theme()\n",
    "fig, ax = plt.subplots(figsize=(4, 5))\n",
    "sns.histplot(data=gender, x=\"Gender\", hue=\"Gender\")"
   ]
  }
 ],
 "metadata": {
  "kernelspec": {
   "display_name": "Python 3 (ipykernel)",
   "language": "python",
   "name": "python3"
  },
  "language_info": {
   "codemirror_mode": {
    "name": "ipython",
    "version": 3
   },
   "file_extension": ".py",
   "mimetype": "text/x-python",
   "name": "python",
   "nbconvert_exporter": "python",
   "pygments_lexer": "ipython3",
   "version": "3.11.1"
  }
 },
 "nbformat": 4,
 "nbformat_minor": 5
}
