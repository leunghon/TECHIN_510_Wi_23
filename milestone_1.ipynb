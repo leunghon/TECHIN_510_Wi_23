{
 "cells": [
  {
   "cell_type": "markdown",
   "metadata": {},
   "source": [
    "# Milestone 1\n",
    "Building on previous exercises, build an interactive application that asks the user a serie of questions and then stores the user's answers for later analysis."
   ]
  },
  {
   "cell_type": "code",
   "execution_count": null,
   "metadata": {},
   "outputs": [],
   "source": [
    "import pandas as pd\n",
    "import matplotlib.pyplot as plt"
   ]
  },
  {
   "cell_type": "markdown",
   "metadata": {},
   "source": [
    "## Create a Basic Chatbot"
   ]
  },
  {
   "cell_type": "code",
   "execution_count": null,
   "metadata": {},
   "outputs": [],
   "source": [
    "## Simple interactive chatbot\n",
    "user = input(\"What is your name? \")\n",
    "print(\"Type 'end' or 'quit' to quit.\")\n",
    "while True:\n",
    "    msg = input(\"Hi how can I help you? \")\n",
    "    if (\"end\" in msg) | (\"quit\" in msg):\n",
    "        break\n",
    "    print(\"you said {} words and {} letters\".format(len(msg.split(\" \")), len(msg)),\n",
    "        end=\"\\n\")"
   ]
  },
  {
   "cell_type": "markdown",
   "metadata": {},
   "source": [
    "## Initialize a DataFrame to Store User Input"
   ]
  },
  {
   "cell_type": "code",
   "execution_count": null,
   "metadata": {},
   "outputs": [],
   "source": [
    "data_store = pd.DataFrame()"
   ]
  },
  {
   "cell_type": "markdown",
   "metadata": {},
   "source": [
    "## Run the Chatbot and Save Each User's Answers"
   ]
  },
  {
   "cell_type": "code",
   "execution_count": null,
   "metadata": {},
   "outputs": [],
   "source": [
    "## Simple interactive chatbot\n",
    "user_responses = []\n",
    "escape = 'QT'\n",
    "user = input(\"What is your name? \")\n",
    "question = \"Are you a stduent?\"\n",
    "print(f'I will ask a few questions. Press \"{escape}\" to quit.')\n",
    "\n",
    "while True:\n",
    "    response = input(f\"{question} \")\n",
    "    if escape in response:\n",
    "        print('Bye!')\n",
    "        break\n",
    "    new_response = {'user_name': user, 'question': question, 'response': response}\n",
    "    user_responses.append(new_response)\n",
    "\n",
    "new_data = pd.DataFrame(user_responses)\n",
    "data_store = pd.concat([data_store, new_data])\n",
    "print(\"Thanks for your response. I've made a note of it.\")"
   ]
  },
  {
   "cell_type": "markdown",
   "metadata": {},
   "source": [
    "## View Cumulative Data"
   ]
  },
  {
   "cell_type": "code",
   "execution_count": null,
   "metadata": {},
   "outputs": [],
   "source": [
    "data_store"
   ]
  },
  {
   "cell_type": "markdown",
   "metadata": {},
   "source": [
    "## Analyze Data"
   ]
  },
  {
   "cell_type": "code",
   "execution_count": null,
   "metadata": {},
   "outputs": [],
   "source": [
    "data_store['response'].value_counts().plot(kind='barh', xlabel=\"Are you a stduent?\")"
   ]
  },
  {
   "cell_type": "markdown",
   "metadata": {},
   "source": [
    "## Be Creative!\n",
    "Don't limit yourself to a simple Q&A. Feel free to explore sentiment analysis by determining whether a user's input is positive or negative. (Remember the positive and negative word lists from Lab 1)"
   ]
  }
 ],
 "metadata": {
  "kernelspec": {
   "display_name": "Python 3 (ipykernel)",
   "language": "python",
   "name": "python3"
  },
  "language_info": {
   "codemirror_mode": {
    "name": "ipython",
    "version": 3
   },
   "file_extension": ".py",
   "mimetype": "text/x-python",
   "name": "python",
   "nbconvert_exporter": "python",
   "pygments_lexer": "ipython3",
   "version": "3.11.1"
  }
 },
 "nbformat": 4,
 "nbformat_minor": 1
}
