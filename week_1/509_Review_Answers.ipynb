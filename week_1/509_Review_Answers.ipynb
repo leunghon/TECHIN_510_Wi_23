{
 "cells": [
  {
   "cell_type": "markdown",
   "id": "7e8c8504",
   "metadata": {},
   "source": [
    "# Objective & Tasks\n",
    "The objective of this lab is to review some of the material from TECHIN 509 in order to help the instructors gauge your comfort level with Python.\n",
    "\n",
    "Your task is to write Python code that solves each of the problems below. Please submit the Jupyter Notebook file before the end of class today. If you need help from an instructor, please let one of us know.\n",
    "\n",
    "You should also feel free to reference [Python's documentation](https://www.python.org/doc/) for any questions you have during the assignment."
   ]
  },
  {
   "cell_type": "markdown",
   "id": "69b42e58",
   "metadata": {},
   "source": [
    "## Task 1\n",
    "Define two variables, `first_name` and `last_name` and concatenate the two so that they print on the same line. Ex. `Scott Stevson`"
   ]
  },
  {
   "cell_type": "code",
   "execution_count": 1,
   "id": "21332e1c",
   "metadata": {},
   "outputs": [
    {
     "name": "stdout",
     "output_type": "stream",
     "text": [
      "David Stevson\n",
      "David Stevson\n"
     ]
    }
   ],
   "source": [
    "first_name = \"David\"\n",
    "last_name = \"Stevson\"\n",
    "print(first_name + \" \" + last_name) \n",
    "# or with an f-string\n",
    "print(f\"{first_name} {last_name}\")"
   ]
  },
  {
   "cell_type": "markdown",
   "id": "b0c6bf78",
   "metadata": {},
   "source": [
    "## Task 2\n",
    "Create a list letters, `a-f` and use a `for` loop to print out each letter one line at a time"
   ]
  },
  {
   "cell_type": "code",
   "execution_count": 2,
   "id": "a0399ebd",
   "metadata": {},
   "outputs": [
    {
     "name": "stdout",
     "output_type": "stream",
     "text": [
      "a\n",
      "b\n",
      "c\n",
      "d\n",
      "e\n",
      "f\n"
     ]
    }
   ],
   "source": [
    "letters = [\"a\", \"b\", \"c\", \"d\", \"e\", \"f\"]\n",
    "for letter in letters:\n",
    "    print(letter)"
   ]
  },
  {
   "cell_type": "markdown",
   "id": "c88d10d5",
   "metadata": {},
   "source": [
    "## Task 3\n",
    "Create a function that takes no arguments and asks the user for their name and then prints (or returns) their name with a cheerful greeting. Ex `G'day, Scott Stevson!`"
   ]
  },
  {
   "cell_type": "code",
   "execution_count": 3,
   "id": "df88bb48",
   "metadata": {},
   "outputs": [
    {
     "name": "stdout",
     "output_type": "stream",
     "text": [
      "What is your name? Scott Stevson\n"
     ]
    },
    {
     "data": {
      "text/plain": [
       "\"G'day, Scott Stevson!\""
      ]
     },
     "execution_count": 3,
     "metadata": {},
     "output_type": "execute_result"
    }
   ],
   "source": [
    "def greeting():\n",
    "    user_name = input(\"What is your name? \")\n",
    "    return f\"G'day, {user_name}!\"\n",
    "\n",
    "greeting()"
   ]
  },
  {
   "cell_type": "markdown",
   "id": "b2704e4b",
   "metadata": {},
   "source": [
    "## Task 4\n",
    "Create a function that calculates a 20% gratuity at a restaurant. The function should take a single argument (an `int` or `float`, your choice) and should return the amount of the tip to the console."
   ]
  },
  {
   "cell_type": "code",
   "execution_count": 4,
   "id": "114902dc",
   "metadata": {},
   "outputs": [
    {
     "data": {
      "text/plain": [
       "20.0"
      ]
     },
     "execution_count": 4,
     "metadata": {},
     "output_type": "execute_result"
    }
   ],
   "source": [
    "def tip(n):\n",
    "    total = float(n)\n",
    "    tip = total * .20\n",
    "    return tip\n",
    "\n",
    "tip(100)"
   ]
  },
  {
   "cell_type": "markdown",
   "id": "2887e64c",
   "metadata": {},
   "source": [
    "## Task 5\n",
    "Write a program that prints the numbers 0-10 to the console."
   ]
  },
  {
   "cell_type": "code",
   "execution_count": 5,
   "id": "96d15b18",
   "metadata": {},
   "outputs": [
    {
     "name": "stdout",
     "output_type": "stream",
     "text": [
      "0\n",
      "1\n",
      "2\n",
      "3\n",
      "4\n",
      "5\n",
      "6\n",
      "7\n",
      "8\n",
      "9\n",
      "10\n"
     ]
    }
   ],
   "source": [
    "def print_ten():\n",
    "    for n in range(0, 11):\n",
    "        print(n)\n",
    "\n",
    "print_ten()"
   ]
  },
  {
   "cell_type": "markdown",
   "id": "c8ebc310",
   "metadata": {},
   "source": [
    "## Task 6\n",
    "Write a program that finds the Factorial of a given number.\n",
    "More on factorials can be found [here:](https://www.cuemath.com/numbers/factorial/) "
   ]
  },
  {
   "cell_type": "code",
   "execution_count": 6,
   "id": "7fe1f414",
   "metadata": {},
   "outputs": [
    {
     "data": {
      "text/plain": [
       "479001600"
      ]
     },
     "execution_count": 6,
     "metadata": {},
     "output_type": "execute_result"
    }
   ],
   "source": [
    "def factorial(n):\n",
    "    factorial = 1\n",
    "    for number in range(1, (n + 1)):\n",
    "        factorial *= number\n",
    "    return factorial\n",
    "\n",
    "factorial(12)"
   ]
  },
  {
   "cell_type": "markdown",
   "id": "300c9453",
   "metadata": {},
   "source": [
    "## Task 7\n",
    "Write a program that asks the user the same question over and over until the user indicates they no longer want to provide an answer."
   ]
  },
  {
   "cell_type": "code",
   "execution_count": 7,
   "id": "730d5043",
   "metadata": {},
   "outputs": [
    {
     "name": "stdout",
     "output_type": "stream",
     "text": [
      "I'm going to ask you question. If you no longer want to answer, just type 'quit'\n",
      "Do you like cake? Yes\n",
      "I'm going to ask you question. If you no longer want to answer, just type 'quit'\n",
      "Do you like cake? quit\n",
      "Okay, I'll stop asking now. Bye!\n"
     ]
    }
   ],
   "source": [
    "def irritating():\n",
    "    while True:\n",
    "        print(\"I'm going to ask you question. If you no longer want to answer, just type 'quit'\")\n",
    "        answer = input(\"Do you like cake? \")\n",
    "        if answer == 'quit':\n",
    "            print(\"Okay, I'll stop asking now. Bye!\")\n",
    "            break\n",
    "\n",
    "irritating()"
   ]
  },
  {
   "cell_type": "markdown",
   "id": "bb83818a",
   "metadata": {},
   "source": [
    "## Task 8\n",
    "Write a `class` \"Person\" that when instantiated contains the persons first name, last name, and age."
   ]
  },
  {
   "cell_type": "code",
   "execution_count": 8,
   "id": "4a0753f6",
   "metadata": {},
   "outputs": [
    {
     "name": "stdout",
     "output_type": "stream",
     "text": [
      "David Stevson 54\n"
     ]
    }
   ],
   "source": [
    "class Person:\n",
    "    \"\"\"\n",
    "    Creates a person object using a first_name, last_name, and age\n",
    "    \"\"\"\n",
    "    def __init__(self, first_name=None, last_name=None, age=None):\n",
    "        self.first_name = first_name\n",
    "        self.last_name = last_name\n",
    "        self.age = age\n",
    "        \n",
    "Scott = Person(\"David\", \"Stevson\", 54)\n",
    "print(Scott.first_name, Scott.last_name, Scott.age)"
   ]
  },
  {
   "cell_type": "markdown",
   "id": "302bb0c1",
   "metadata": {},
   "source": [
    "## Task 9\n",
    "Write a program that asks the user whether they enjoy jogging. The user's response should be one of the following: \"yes\", \"no\", \"y\", \"n\". The program should continue asking the question until the user provides the correct response."
   ]
  },
  {
   "cell_type": "code",
   "execution_count": 9,
   "id": "a74eaa18",
   "metadata": {},
   "outputs": [
    {
     "name": "stdout",
     "output_type": "stream",
     "text": [
      "Do you enjoy jogging? what?\n",
      "Do you enjoy jogging? huh?\n",
      "Do you enjoy jogging? yes\n",
      "Okay then!\n"
     ]
    }
   ],
   "source": [
    "def jogging():\n",
    "    correct_responses = [\"yes\", \"no\", \"y\", \"n\"]\n",
    "    while True:\n",
    "        answer = input(\"Do you enjoy jogging? \")\n",
    "        if answer in correct_responses:\n",
    "            print(\"Okay then!\")\n",
    "            break\n",
    "            \n",
    "jogging()"
   ]
  },
  {
   "cell_type": "markdown",
   "id": "921410ae",
   "metadata": {},
   "source": [
    "## Task 10\n",
    "### Fibonacci Sequence\n",
    "Given a number `n`, return the nth Fibonacci's number. You can find more information about Fibonacci Sequences [here](https://www.mathsisfun.com/numbers/fibonacci-sequence.html)"
   ]
  },
  {
   "cell_type": "code",
   "execution_count": 12,
   "id": "9a5cf177",
   "metadata": {},
   "outputs": [
    {
     "data": {
      "text/plain": [
       "987"
      ]
     },
     "execution_count": 12,
     "metadata": {},
     "output_type": "execute_result"
    }
   ],
   "source": [
    "\"\"\"Calculates a Fibonacci sequence\"\"\"\n",
    "\n",
    "def fib(n):\n",
    "    i = 0 # declare a counter\n",
    "    sequence = [] # initialize a list to hold sequence\n",
    "    a, b = 0, 1\n",
    "    while i <= n:\n",
    "        sequence.append(a)\n",
    "        a, b = b, a + b\n",
    "        i += 1\n",
    "    return sequence[-1]\n",
    "    \n",
    "fib(16)"
   ]
  },
  {
   "cell_type": "markdown",
   "id": "ec93d6b3",
   "metadata": {},
   "source": [
    "## Bonus Question\n",
    "### Number Guessing Game\n",
    "* Write a function `guessing_game` that takes no arguments.\n",
    "* When run, the function chooses a random integer between 0 and 100 (inclusive).\n",
    "* Then ask the user to guess what number has been chosen.\n",
    "* Each time the user enters a guess, the program indicates one of the following:\n",
    "    * Too high\n",
    "    * Too low\n",
    "    * Just right\n",
    "* If the user guesses correctly, the program exits. Otherwise, the user is asked to try again.\n",
    "* The program only exits after the user guesses correctly."
   ]
  },
  {
   "cell_type": "code",
   "execution_count": 13,
   "id": "69df46e8",
   "metadata": {},
   "outputs": [
    {
     "name": "stdout",
     "output_type": "stream",
     "text": [
      "Enter an integer between 1 and 100: 50\n",
      "Guess is too high\n",
      "Enter an integer between 1 and 100: 25\n",
      "Guess is too low\n",
      "Enter an integer between 1 and 100: 30\n",
      "Guess is too low\n",
      "Enter an integer between 1 and 100: 35\n",
      "Guess is too low\n",
      "Enter an integer between 1 and 100: 40\n",
      "Guess is too high\n",
      "Enter an integer between 1 and 100: 38\n",
      "Guess is too high\n",
      "Enter an integer between 1 and 100: 37\n",
      "Guess is too high\n",
      "Enter an integer between 1 and 100: 36\n",
      "You guessed right!\n"
     ]
    }
   ],
   "source": [
    "\"\"\"Simple number guessing game with error handling\"\"\"\n",
    "from random import randint\n",
    "\n",
    "\n",
    "def guessing_game():\n",
    "    \"\"\"Start guessing game\"\"\"\n",
    "    # pick a random number for the player to guess against\n",
    "    game_range = range(1, 101)\n",
    "    random_integer = randint(game_range.start, game_range.stop)\n",
    "    # loop until user picks the correct number\n",
    "    while True:\n",
    "        try:\n",
    "            user_guess = int(\n",
    "                input(\n",
    "                    f\"Enter an integer between {game_range.start} and \"\n",
    "                    f\"{game_range.stop - 1}: \"\n",
    "                )\n",
    "            )\n",
    "        except ValueError:\n",
    "            print(\"That's not an integer. Try again.\")\n",
    "            continue\n",
    "\n",
    "        if user_guess == random_integer:\n",
    "            print(\"You guessed right!\")\n",
    "            break\n",
    "        if user_guess not in game_range:\n",
    "            print(\"Your guess is out of range.\")\n",
    "            continue\n",
    "        if user_guess < random_integer:\n",
    "            print(\"Guess is too low\")\n",
    "        else:\n",
    "            print(\"Guess is too high\")\n",
    "\n",
    "\n",
    "if __name__ == \"__main__\":\n",
    "    guessing_game()\n"
   ]
  }
 ],
 "metadata": {
  "kernelspec": {
   "display_name": "Python 3 (ipykernel)",
   "language": "python",
   "name": "python3"
  },
  "language_info": {
   "codemirror_mode": {
    "name": "ipython",
    "version": 3
   },
   "file_extension": ".py",
   "mimetype": "text/x-python",
   "name": "python",
   "nbconvert_exporter": "python",
   "pygments_lexer": "ipython3",
   "version": "3.11.1"
  }
 },
 "nbformat": 4,
 "nbformat_minor": 5
}
